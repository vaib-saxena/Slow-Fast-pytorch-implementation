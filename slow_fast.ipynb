{
 "cells": [
  {
   "cell_type": "markdown",
   "metadata": {
    "colab_type": "text",
    "id": "4AfjbmHBiIPx"
   },
   "source": [
    "## Create a conda environment"
   ]
  },
  {
   "cell_type": "code",
   "execution_count": null,
   "metadata": {
    "colab": {},
    "colab_type": "code",
    "id": "U1XDUJP9GMDQ"
   },
   "outputs": [],
   "source": [
    "!wget https://repo.anaconda.com/archive/Anaconda3-5.2.0-Linux-x86_64.sh && bash Anaconda3-5.2.0-Linux-x86_64.sh -bfp /usr/local"
   ]
  },
  {
   "cell_type": "markdown",
   "metadata": {
    "colab_type": "text",
    "id": "wnbFThf_iZeg"
   },
   "source": [
    "## Install dependencies"
   ]
  },
  {
   "cell_type": "code",
   "execution_count": null,
   "metadata": {
    "colab": {},
    "colab_type": "code",
    "id": "1dKfMmaIIG_D"
   },
   "outputs": [],
   "source": [
    "!yes | conda install pytorch==1.0.0 torchvision==0.2.1 cuda100 -c pytorch\n",
    "!pip install opencv-python==3.4.5.20\n",
    "!pip install -q youtube-dl\n",
    "!pip install ffmpeg\n",
    "!pip install gdown"
   ]
  },
  {
   "cell_type": "markdown",
   "metadata": {
    "colab_type": "text",
    "id": "xW0X9UVeilNY"
   },
   "source": [
    "## Clone the github repo"
   ]
  },
  {
   "cell_type": "code",
   "execution_count": 5,
   "metadata": {
    "colab": {
     "base_uri": "https://localhost:8080/",
     "height": 149
    },
    "colab_type": "code",
    "id": "1s2P0Z8qJyV1",
    "outputId": "03234377-908c-4919-b8f9-ddfae544dbd8"
   },
   "outputs": [
    {
     "name": "stdout",
     "output_type": "stream",
     "text": [
      "Cloning into 'Slow-Fast-pytorch-implementation'...\n",
      "remote: Enumerating objects: 8, done.\u001b[K\n",
      "remote: Counting objects:  12% (1/8)\u001b[K\r",
      "remote: Counting objects:  25% (2/8)\u001b[K\r",
      "remote: Counting objects:  37% (3/8)\u001b[K\r",
      "remote: Counting objects:  50% (4/8)\u001b[K\r",
      "remote: Counting objects:  62% (5/8)\u001b[K\r",
      "remote: Counting objects:  75% (6/8)\u001b[K\r",
      "remote: Counting objects:  87% (7/8)\u001b[K\r",
      "remote: Counting objects: 100% (8/8)\u001b[K\r",
      "remote: Counting objects: 100% (8/8), done.\u001b[K\n",
      "remote: Compressing objects: 100% (6/6), done.\u001b[K\n",
      "remote: Total 253 (delta 2), reused 5 (delta 2), pack-reused 245\u001b[K\n",
      "Receiving objects: 100% (253/253), 65.03 MiB | 11.65 MiB/s, done.\n",
      "Resolving deltas: 100% (44/44), done.\n"
     ]
    }
   ],
   "source": [
    "!git clone https://github.com/vaib-saxena/Slow-Fast-pytorch-implementation.git"
   ]
  },
  {
   "cell_type": "code",
   "execution_count": 6,
   "metadata": {
    "colab": {
     "base_uri": "https://localhost:8080/",
     "height": 36
    },
    "colab_type": "code",
    "id": "yC7v1p3sJ4y2",
    "outputId": "8f337b71-323e-4a28-8ad5-751d24d86c85"
   },
   "outputs": [
    {
     "name": "stdout",
     "output_type": "stream",
     "text": [
      "/content/Slow-Fast-pytorch-implementation\n"
     ]
    }
   ],
   "source": [
    "%cd /content/Slow-Fast-pytorch-implementation"
   ]
  },
  {
   "cell_type": "markdown",
   "metadata": {
    "colab_type": "text",
    "id": "uRUv_nmhjsDo"
   },
   "source": [
    "## Download pretrained weights"
   ]
  },
  {
   "cell_type": "code",
   "execution_count": null,
   "metadata": {
    "colab": {},
    "colab_type": "code",
    "id": "zD5qtd2skame"
   },
   "outputs": [],
   "source": [
    "import os\n",
    "from os.path import exists, join, basename\n",
    "project_name = \"/content/Slow-Fast-pytorch-implementation\"\n",
    "\n",
    "yolo_pretrained_weight_dir = project_name\n",
    "if not exists(join(yolo_pretrained_weight_dir, 'yolov3.weights')):\n",
    "  file_id = '1zAh58ZEbtOmt8tvqEbh2p7jCdt1Q7xbK'\n",
    "  !cd {yolo_pretrained_weight_dir} && gdown \"https://drive.google.com/uc?id={file_id}\"\n",
    "    \n",
    "deepsort_pretrained_weight_dir = join(project_name, 'deep/checkpoint')\n",
    "if not exists(join(deepsort_pretrained_weight_dir, 'ckpt.t7')):\n",
    "  file_id = '1_qwTWdzT9dWNudpusgKavj_4elGgbkUN'\n",
    "  !cd {deepsort_pretrained_weight_dir} && curl -Lb ./cookie \"https://drive.google.com/uc?export=download&id={file_id}\" -o ckpt.t7\n",
    "\n",
    "slowfast_pretrained_weight_dir = project_name\n",
    "if not exists(join(slowfast_pretrained_weight_dir, 'slowfast_weight.pth')):\n",
    "  file_id = '1wteH0LxrGV9_Z1PO6YC-2m9Qte9fMGao'\n",
    "  !cd {slowfast_pretrained_weight_dir} && gdown \"https://drive.google.com/uc?id={file_id}\""
   ]
  },
  {
   "cell_type": "markdown",
   "metadata": {
    "colab_type": "text",
    "id": "lPdw70V_jB4Q"
   },
   "source": [
    "## Build the extension"
   ]
  },
  {
   "cell_type": "code",
   "execution_count": null,
   "metadata": {
    "colab": {},
    "colab_type": "code",
    "id": "PExBLTZuItan"
   },
   "outputs": [],
   "source": [
    "!python /content/Slow-Fast-pytorch-implementation/support/setup.py build develop"
   ]
  },
  {
   "cell_type": "code",
   "execution_count": 3,
   "metadata": {
    "colab": {
     "base_uri": "https://localhost:8080/",
     "height": 36
    },
    "colab_type": "code",
    "id": "-NE0RdUzJQmk",
    "outputId": "c2416c75-b43e-4a05-e047-707f3bc10e7c"
   },
   "outputs": [
    {
     "name": "stdout",
     "output_type": "stream",
     "text": [
      "/content/Slow-Fast-pytorch-implementation\n"
     ]
    }
   ],
   "source": [
    "%cd /content/Slow-Fast-pytorch-implementation"
   ]
  },
  {
   "cell_type": "markdown",
   "metadata": {},
   "source": [
    "## Mount your Google Drive"
   ]
  },
  {
   "cell_type": "code",
   "execution_count": null,
   "metadata": {},
   "outputs": [],
   "source": [
    "from google.colab import drive\n",
    "drive.mount('/gdrive')"
   ]
  },
  {
   "cell_type": "markdown",
   "metadata": {
    "colab_type": "text",
    "id": "yXv4BihpvHDF"
   },
   "source": [
    "## Downloading the video from drive"
   ]
  },
  {
   "cell_type": "code",
   "execution_count": null,
   "metadata": {
    "colab": {},
    "colab_type": "code",
    "id": "JCdaeDk9vFAN"
   },
   "outputs": [],
   "source": [
    "## you can provide your own Google drive ID(last digits of shareable link) \n",
    "drive_id='1CgjWcFfqt_m4lUdNshd70EVOEAtfle0j'\n",
    "\n",
    "!gdown https://drive.google.com/uc?id=drive_id\n",
    "\n",
    "# -ss requires the start of the video and -t requires the duration of the video, new.mp4 is the name of the video that can be changed accordingly\n",
    "!ffmpeg -ss 00:00:00.00 -i /content/Slow-Fast-pytorch-implementation/final_low_bitrate.mp4 -t 00:00:10.00 -c copy new.mp4"
   ]
  },
  {
   "cell_type": "markdown",
   "metadata": {
    "colab_type": "text",
    "id": "UGTbTUBzTxSp"
   },
   "source": [
    "## Run the code on the video file"
   ]
  },
  {
   "cell_type": "code",
   "execution_count": null,
   "metadata": {
    "colab": {},
    "colab_type": "code",
    "id": "3V99jJ4_QOzY"
   },
   "outputs": [],
   "source": [
    "#Change reso(resolution) values(512,1024,2048 etc.) as per the need, higher the resolution, higher the accuracy \n",
    "#but it compromises with speed. Furthermore, the value of confidence can be changed(0 to 1) \n",
    "#it refers to the algorithm's confidence for predictions\n",
    "#--video refers to the location of the video you want to run\n",
    "\n",
    "!python video_demo.py --reso=416 --confidence=0.5 --video=\"/content/Slow-Fast-pytorch-implementation/new.mp4\""
   ]
  },
  {
   "cell_type": "markdown",
   "metadata": {
    "colab_type": "text",
    "id": "gCPokJO27l6S"
   },
   "source": [
    "## Creating the output as video file(saving in Google Drive)"
   ]
  },
  {
   "cell_type": "code",
   "execution_count": 1,
   "metadata": {
    "colab": {},
    "colab_type": "code",
    "id": "Bf27YJbwnVh-"
   },
   "outputs": [],
   "source": [
    "import cv2\n",
    "import numpy as np\n",
    "import glob\n",
    "\n",
    "#saving the individual frames in the following folder\n",
    "path = '/content/drive/My Drive/Activity_Outputs/frames/'\n",
    "\n",
    "img_array = []\n",
    "for count in range(1000):\n",
    "  filename = '/content/drive/My Drive/Activity_Outputs/frames/' + str(count) + '.jpg'\n",
    "  img = cv2.imread(filename)\n",
    "  height, width, layers = img.shape\n",
    "  size = (width,height)\n",
    "  img_array.append(img)\n",
    "\n",
    "#set your own frame rate\n",
    "frame = 30\n",
    "out = cv2.VideoWriter('/content/drive/My Drive/Activity_Outputs/output.mp4',cv2.VideoWriter_fourcc(*'DIVX'), frame, size)\n",
    "\n",
    "for i in range(len(img_array)):\n",
    "    out.write(img_array[i])\n",
    "out.release()"
   ]
  },
  {
   "cell_type": "markdown",
   "metadata": {
    "colab_type": "text",
    "id": "8LPOI85-PSZ-"
   },
   "source": [
    "## Download video and csv"
   ]
  },
  {
   "cell_type": "code",
   "execution_count": null,
   "metadata": {
    "colab": {},
    "colab_type": "code",
    "id": "62TY6W5WLhVs"
   },
   "outputs": [],
   "source": [
    "# Import PyDrive and associated libraries.\n",
    "# This only needs to be done once per notebook.\n",
    "from pydrive.auth import GoogleAuth\n",
    "from pydrive.drive import GoogleDrive\n",
    "from google.colab import auth\n",
    "from oauth2client.client import GoogleCredentials\n",
    "\n",
    "# Authenticate and create the PyDrive client.\n",
    "# This only needs to be done once per notebook.\n",
    "auth.authenticate_user()\n",
    "gauth = GoogleAuth()\n",
    "gauth.credentials = GoogleCredentials.get_application_default()\n",
    "drive = GoogleDrive(gauth)\n",
    "\n",
    "# Download video file based on its file ID.\n",
    "#\n",
    "# A file ID looks like: laggVyWshwcyP6kEI-y_W3P8D26sz\n",
    "file_id_video = 'REPLACE_WITH_YOUR_FILE_ID'\n",
    "downloaded = drive.CreateFile({'id': file_id_video})\n",
    "print('Downloaded content \"{}\"'.format(downloaded.GetContentString()))\n",
    "\n",
    "# Download csv file based on its file ID.\n",
    "# A file ID looks like: laggVyWshwcyP6kEI-y_W3P8D26sz\n",
    "file_id_csv = 'REPLACE_WITH_YOUR_FILE_ID'\n",
    "downloaded = drive.CreateFile({'id': file_id_csv})\n",
    "print('Downloaded content \"{}\"'.format(downloaded.GetContentString()))"
   ]
  }
 ],
 "metadata": {
  "accelerator": "GPU",
  "colab": {
   "collapsed_sections": [],
   "name": "slow-fast.ipynb",
   "provenance": [],
   "toc_visible": true
  },
  "kernelspec": {
   "display_name": "Python 3",
   "language": "python",
   "name": "python3"
  },
  "language_info": {
   "codemirror_mode": {
    "name": "ipython",
    "version": 3
   },
   "file_extension": ".py",
   "mimetype": "text/x-python",
   "name": "python",
   "nbconvert_exporter": "python",
   "pygments_lexer": "ipython3",
   "version": "3.7.6"
  }
 },
 "nbformat": 4,
 "nbformat_minor": 1
}
